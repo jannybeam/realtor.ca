{
 "cells": [
  {
   "cell_type": "code",
   "execution_count": 1,
   "id": "2f270318",
   "metadata": {},
   "outputs": [],
   "source": [
    "import numpy as np\n",
    "import pandas as pd"
   ]
  },
  {
   "cell_type": "code",
   "execution_count": 2,
   "id": "cbd51cb7",
   "metadata": {},
   "outputs": [],
   "source": [
    "df = pd.read_csv('data/data.csv', names=['adress', 'url'])\n",
    "df = df.drop_duplicates()\n",
    "df['id'] = df['adress'].apply(lambda x: x.split(' ')[0])\n",
    "df['longitued'] = df['adress'].apply(lambda x : x.split(' ')[-1].split('_')[1])\n",
    "df['latitued'] = df['adress'].apply(lambda x : x.split(' ')[-1].split('_')[2])\n",
    "df['adress'] = df['adress'].apply(lambda x: ' '.join(x.split(' ')[1:-1]))\n",
    "df['id'] = df['id'].str.replace(',', '')\n",
    "df['url'] = 'https://www.realtor.ca' + df['url']"
   ]
  },
  {
   "cell_type": "code",
   "execution_count": 5,
   "id": "e20add18",
   "metadata": {},
   "outputs": [],
   "source": [
    "df.to_csv('data/pages.csv', index=False)"
   ]
  },
  {
   "cell_type": "code",
   "execution_count": null,
   "id": "1b023812",
   "metadata": {},
   "outputs": [],
   "source": []
  }
 ],
 "metadata": {
  "kernelspec": {
   "display_name": "Python 3.10.4 64-bit",
   "language": "python",
   "name": "python3"
  },
  "language_info": {
   "codemirror_mode": {
    "name": "ipython",
    "version": 3
   },
   "file_extension": ".py",
   "mimetype": "text/x-python",
   "name": "python",
   "nbconvert_exporter": "python",
   "pygments_lexer": "ipython3",
   "version": "3.10.4"
  },
  "vscode": {
   "interpreter": {
    "hash": "369f2c481f4da34e4445cda3fffd2e751bd1c4d706f27375911949ba6bb62e1c"
   }
  }
 },
 "nbformat": 4,
 "nbformat_minor": 5
}
